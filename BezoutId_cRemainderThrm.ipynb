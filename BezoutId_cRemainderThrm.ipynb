{
 "cells": [
  {
   "cell_type": "code",
   "execution_count": 1,
   "metadata": {},
   "outputs": [],
   "source": [
    "def coefsOfBezout(a, b):\n",
    "    r = a % b\n",
    "    q = a//b\n",
    "    if r == 0:\n",
    "        return {\n",
    "            \"GCF\" : b,\n",
    "            \"x\" : 0,\n",
    "            \"y\" : 1\n",
    "        }\n",
    "    else:\n",
    "        d = coefsOfBezout(b,r)\n",
    "        x = d[\"y\"]\n",
    "        y = d[\"x\"] - q * d[\"y\"]\n",
    "        return {\n",
    "            \"GCF\" : x * a + y * b,\n",
    "            \"x\" : x,\n",
    "            \"y\" : y\n",
    "        }"
   ]
  },
  {
   "cell_type": "code",
   "execution_count": 3,
   "metadata": {},
   "outputs": [
    {
     "name": "stdout",
     "output_type": "stream",
     "text": [
      "GCF = 2\n",
      "x = -43\n",
      "y = 128\n"
     ]
    },
    {
     "data": {
      "text/plain": [
       "True"
      ]
     },
     "execution_count": 3,
     "metadata": {},
     "output_type": "execute_result"
    }
   ],
   "source": [
    "d = coefsOfBezout(762,256)\n",
    "print('GCF = {}'.format(d[\"GCF\"]))\n",
    "print('x = {}'.format(d[\"x\"]))\n",
    "print('y = {}'.format(d[\"y\"]))\n",
    "d[\"GCF\"] == 762 * d[\"x\"] + 256 * d[\"y\"]  \n"
   ]
  },
  {
   "cell_type": "code",
   "execution_count": null,
   "metadata": {},
   "outputs": [],
   "source": [
    "print(-43 * 762 + 128 * 256)"
   ]
  },
  {
   "cell_type": "code",
   "execution_count": 4,
   "metadata": {},
   "outputs": [],
   "source": [
    "def factorial(n):\n",
    "    print('called with n={}'.format(n))\n",
    "    if n == 0:\n",
    "        print('returned with n={}'.format(n))\n",
    "        return 1\n",
    "    else:\n",
    "        f = factorial(n-1)*n\n",
    "        print('returned with n={}'.format(n))\n",
    "        return f"
   ]
  },
  {
   "cell_type": "code",
   "execution_count": 5,
   "metadata": {},
   "outputs": [
    {
     "name": "stdout",
     "output_type": "stream",
     "text": [
      "called with n=3\n",
      "called with n=2\n",
      "called with n=1\n",
      "called with n=0\n",
      "returned with n=0\n",
      "returned with n=1\n",
      "returned with n=2\n",
      "returned with n=3\n"
     ]
    },
    {
     "data": {
      "text/plain": [
       "6"
      ]
     },
     "execution_count": 5,
     "metadata": {},
     "output_type": "execute_result"
    }
   ],
   "source": [
    "factorial(3)"
   ]
  },
  {
   "cell_type": "code",
   "execution_count": 10,
   "metadata": {},
   "outputs": [],
   "source": [
    "def fib(n):\n",
    "    if n <= 1:\n",
    "        return 1\n",
    "    else:\n",
    "        return fib(n-1) + fib(n-2)"
   ]
  },
  {
   "cell_type": "code",
   "execution_count": 11,
   "metadata": {},
   "outputs": [
    {
     "data": {
      "text/plain": [
       "13"
      ]
     },
     "execution_count": 11,
     "metadata": {},
     "output_type": "execute_result"
    }
   ],
   "source": [
    "fib(6)"
   ]
  },
  {
   "cell_type": "code",
   "execution_count": 12,
   "metadata": {},
   "outputs": [],
   "source": [
    "def sum_every_two(n):\n",
    "    if n <= 0:\n",
    "        return 0\n",
    "    else:\n",
    "        return sum_every_two(n-2) + n"
   ]
  },
  {
   "cell_type": "code",
   "execution_count": 13,
   "metadata": {},
   "outputs": [
    {
     "data": {
      "text/plain": [
       "6"
      ]
     },
     "execution_count": 13,
     "metadata": {},
     "output_type": "execute_result"
    }
   ],
   "source": [
    "sum_every_two(4)"
   ]
  },
  {
   "cell_type": "code",
   "execution_count": 14,
   "metadata": {},
   "outputs": [],
   "source": [
    "def harmonic_sum(n):\n",
    "    if n == 1:\n",
    "        return 1\n",
    "    else:\n",
    "        return harmonic_sum(n-1) + 1 / n"
   ]
  },
  {
   "cell_type": "code",
   "execution_count": null,
   "metadata": {},
   "outputs": [],
   "source": [
    "%time harmonic_sum(10000)"
   ]
  },
  {
   "cell_type": "code",
   "execution_count": 1,
   "metadata": {},
   "outputs": [
    {
     "name": "stdout",
     "output_type": "stream",
     "text": [
      "[23, 128, 233, 338, 443, 548, 653, 758, 863, 968]\n"
     ]
    }
   ],
   "source": [
    "a = 7\n",
    "ansList = []\n",
    "for a in range(1001):\n",
    "    if a % 3 == 2 and a % 5 == 3 and a % 7 == 2:\n",
    "        ansList.append(a)\n",
    "print(ansList)"
   ]
  },
  {
   "cell_type": "code",
   "execution_count": 2,
   "metadata": {},
   "outputs": [
    {
     "data": {
      "text/plain": [
       "735"
      ]
     },
     "execution_count": 2,
     "metadata": {},
     "output_type": "execute_result"
    }
   ],
   "source": [
    "3*2*5*7+5*3*3*7+7*2*3*5"
   ]
  },
  {
   "cell_type": "code",
   "execution_count": 2,
   "metadata": {},
   "outputs": [],
   "source": [
    "import pandas as pd\n",
    "from IPython.display import display\n",
    "def coefsOfBezout0(a, b):\n",
    "    data = []\n",
    "    while True:\n",
    "        q = a // b\n",
    "        r = a % b\n",
    "        data.append([a, b, q, r, None, None])\n",
    "        if r != 0:\n",
    "            a, b = b, r\n",
    "        else:\n",
    "            break\n",
    "    df = pd.DataFrame(data=data, columns=['a', 'b', 'q','r', 'x', 'y'])\n",
    "    df.index.name = 'Loop'\n",
    "    \n",
    "    for i in range(df.shape[0] - 1, -1, -1):\n",
    "        if (i == df.shape[0] - 1):\n",
    "            df.loc[i, 'x'] = 0\n",
    "            df.loc[i, 'y'] = 1\n",
    "        else:\n",
    "            x = df.loc[i + 1, 'y']\n",
    "            y = df.loc[i + 1, 'x'] - df.loc[i, 'q'] * df.loc[i + 1, 'y']\n",
    "            df.loc[i,'x'] = x\n",
    "            df.loc[i,'y'] = y\n",
    "    d = {\n",
    "        'GCF' : df.loc[df.shape[0] - 2, 'r'],\n",
    "        'x' : df.loc[0, 'x'],\n",
    "        'y' : df.loc[0, 'y'],\n",
    "        'details' : df\n",
    "    }\n",
    "    return d\n",
    "            "
   ]
  },
  {
   "cell_type": "code",
   "execution_count": 3,
   "metadata": {},
   "outputs": [
    {
     "data": {
      "text/html": [
       "<div>\n",
       "<style scoped>\n",
       "    .dataframe tbody tr th:only-of-type {\n",
       "        vertical-align: middle;\n",
       "    }\n",
       "\n",
       "    .dataframe tbody tr th {\n",
       "        vertical-align: top;\n",
       "    }\n",
       "\n",
       "    .dataframe thead th {\n",
       "        text-align: right;\n",
       "    }\n",
       "</style>\n",
       "<table border=\"1\" class=\"dataframe\">\n",
       "  <thead>\n",
       "    <tr style=\"text-align: right;\">\n",
       "      <th></th>\n",
       "      <th>a</th>\n",
       "      <th>b</th>\n",
       "      <th>q</th>\n",
       "      <th>r</th>\n",
       "      <th>x</th>\n",
       "      <th>y</th>\n",
       "    </tr>\n",
       "    <tr>\n",
       "      <th>Loop</th>\n",
       "      <th></th>\n",
       "      <th></th>\n",
       "      <th></th>\n",
       "      <th></th>\n",
       "      <th></th>\n",
       "      <th></th>\n",
       "    </tr>\n",
       "  </thead>\n",
       "  <tbody>\n",
       "    <tr>\n",
       "      <th>0</th>\n",
       "      <td>762</td>\n",
       "      <td>256</td>\n",
       "      <td>2</td>\n",
       "      <td>250</td>\n",
       "      <td>-43</td>\n",
       "      <td>128</td>\n",
       "    </tr>\n",
       "    <tr>\n",
       "      <th>1</th>\n",
       "      <td>256</td>\n",
       "      <td>250</td>\n",
       "      <td>1</td>\n",
       "      <td>6</td>\n",
       "      <td>42</td>\n",
       "      <td>-43</td>\n",
       "    </tr>\n",
       "    <tr>\n",
       "      <th>2</th>\n",
       "      <td>250</td>\n",
       "      <td>6</td>\n",
       "      <td>41</td>\n",
       "      <td>4</td>\n",
       "      <td>-1</td>\n",
       "      <td>42</td>\n",
       "    </tr>\n",
       "    <tr>\n",
       "      <th>3</th>\n",
       "      <td>6</td>\n",
       "      <td>4</td>\n",
       "      <td>1</td>\n",
       "      <td>2</td>\n",
       "      <td>1</td>\n",
       "      <td>-1</td>\n",
       "    </tr>\n",
       "    <tr>\n",
       "      <th>4</th>\n",
       "      <td>4</td>\n",
       "      <td>2</td>\n",
       "      <td>2</td>\n",
       "      <td>0</td>\n",
       "      <td>0</td>\n",
       "      <td>1</td>\n",
       "    </tr>\n",
       "  </tbody>\n",
       "</table>\n",
       "</div>"
      ],
      "text/plain": [
       "        a    b   q    r    x    y\n",
       "Loop                             \n",
       "0     762  256   2  250  -43  128\n",
       "1     256  250   1    6   42  -43\n",
       "2     250    6  41    4   -1   42\n",
       "3       6    4   1    2    1   -1\n",
       "4       4    2   2    0    0    1"
      ]
     },
     "metadata": {},
     "output_type": "display_data"
    }
   ],
   "source": [
    "d = coefsOfBezout0(762,256)\n",
    "display(d['details'])"
   ]
  },
  {
   "cell_type": "code",
   "execution_count": 4,
   "metadata": {},
   "outputs": [],
   "source": [
    "def cRemainderThrm(n, r):\n",
    "    N = 1\n",
    "    for item in n:\n",
    "        N *= item \n",
    "    Ns = [N // item for item in n]\n",
    "    # N1, N2, N3 = N//n1, N//n2, N//n3\n",
    "    Ms = [coefsOfBezout0(Ns[i], n[i])['x'] for i in range(len(n))]\n",
    "    # M1, M2, M3 = coefsOfBezout0(N1, n1)[\"x\"], coefsOfBezout0(N2, n2)[\"x\"], coefsOfBezout0(N3, n3)[\"x\"]\n",
    "    x = 0\n",
    "    for i in range(len(n)):\n",
    "        x += r[i] * Ms[i] * Ns[i]\n",
    "    return {'N': N, 'x': x}\n",
    "    # r1* M1 * N1 + r2* M2 * N2 + r3 * M3 * N3\n",
    "    "
   ]
  },
  {
   "cell_type": "code",
   "execution_count": 5,
   "metadata": {},
   "outputs": [
    {
     "data": {
      "text/plain": [
       "101243"
      ]
     },
     "execution_count": 5,
     "metadata": {},
     "output_type": "execute_result"
    }
   ],
   "source": [
    "d = cRemainderThrm([3,5,7,11, 17, 26],[2,3,2,10,8,25])\n",
    "5 * d['N'] + d['x']"
   ]
  },
  {
   "cell_type": "code",
   "execution_count": null,
   "metadata": {},
   "outputs": [],
   "source": []
  },
  {
   "cell_type": "code",
   "execution_count": null,
   "metadata": {},
   "outputs": [],
   "source": []
  }
 ],
 "metadata": {
  "kernelspec": {
   "display_name": "Python 3 (ipykernel)",
   "language": "python",
   "name": "python3"
  },
  "language_info": {
   "codemirror_mode": {
    "name": "ipython",
    "version": 3
   },
   "file_extension": ".py",
   "mimetype": "text/x-python",
   "name": "python",
   "nbconvert_exporter": "python",
   "pygments_lexer": "ipython3",
   "version": "3.9.5"
  }
 },
 "nbformat": 4,
 "nbformat_minor": 2
}
